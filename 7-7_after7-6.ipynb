{
  "nbformat": 4,
  "nbformat_minor": 0,
  "metadata": {
    "colab": {
      "name": "Untitled0.ipynb",
      "version": "0.3.2",
      "provenance": [],
      "include_colab_link": true
    },
    "kernelspec": {
      "name": "python3",
      "display_name": "Python 3"
    },
    "accelerator": "GPU"
  },
  "cells": [
    {
      "cell_type": "markdown",
      "metadata": {
        "id": "view-in-github",
        "colab_type": "text"
      },
      "source": [
        "<a href=\"https://colab.research.google.com/github/HisakaKoji/pytorch_advanced/blob/master/7-7_after7-6.ipynb\" target=\"_parent\"><img src=\"https://colab.research.google.com/assets/colab-badge.svg\" alt=\"Open In Colab\"/></a>"
      ]
    },
    {
      "cell_type": "code",
      "metadata": {
        "id": "npT2ikKrz8UO",
        "colab_type": "code",
        "colab": {
          "base_uri": "https://localhost:8080/",
          "height": 34
        },
        "outputId": "3f05ef75-2d4e-4fae-bd55-ca7b685418c6"
      },
      "source": [
        "%cd pytorch_advanced/7_nlp_sentiment_transformer"
      ],
      "execution_count": 1,
      "outputs": [
        {
          "output_type": "stream",
          "text": [
            "/content/pytorch_advanced/7_nlp_sentiment_transformer\n"
          ],
          "name": "stdout"
        }
      ]
    },
    {
      "cell_type": "code",
      "metadata": {
        "id": "0LmBDvkP0Ky7",
        "colab_type": "code",
        "colab": {}
      },
      "source": [
        "# パッケージのimport\n",
        "import numpy as np\n",
        "import random\n",
        "\n",
        "import torch\n",
        "import torch.nn as nn\n",
        "import torch.optim as optim\n",
        "\n",
        "import torchtext"
      ],
      "execution_count": 0,
      "outputs": []
    },
    {
      "cell_type": "code",
      "metadata": {
        "id": "yGRTblvq0NeW",
        "colab_type": "code",
        "colab": {}
      },
      "source": [
        "from utils.dataloader import get_IMDb_DataLoaders_and_TEXT"
      ],
      "execution_count": 0,
      "outputs": []
    },
    {
      "cell_type": "code",
      "metadata": {
        "id": "kEiZQQLx0agD",
        "colab_type": "code",
        "colab": {}
      },
      "source": [
        "# 乱数のシードを設定\n",
        "torch.manual_seed(1234)\n",
        "np.random.seed(1234)\n",
        "random.seed(1234)"
      ],
      "execution_count": 0,
      "outputs": []
    },
    {
      "cell_type": "code",
      "metadata": {
        "id": "_IrpEBy50czo",
        "colab_type": "code",
        "colab": {}
      },
      "source": [
        "from utils.dataloader import get_IMDb_DataLoaders_and_TEXT\n",
        "\n",
        "# 読み込み\n",
        "train_dl, val_dl, test_dl, TEXT = get_IMDb_DataLoaders_and_TEXT(\n",
        "    max_length=256, batch_size=64)\n",
        "\n",
        "# 辞書オブジェクトにまとめる\n",
        "dataloaders_dict = {\"train\": train_dl, \"val\": val_dl}"
      ],
      "execution_count": 0,
      "outputs": []
    },
    {
      "cell_type": "code",
      "metadata": {
        "id": "BGr6jAlt0gLD",
        "colab_type": "code",
        "colab": {
          "base_uri": "https://localhost:8080/",
          "height": 34
        },
        "outputId": "99065fc9-3ba0-41a2-db52-6894adcffe03"
      },
      "source": [
        "from utils.transformer import TransformerClassification\n",
        "\n",
        "# モデル構築\n",
        "net = TransformerClassification(\n",
        "    text_embedding_vectors=TEXT.vocab.vectors, d_model=300, max_seq_len=256, output_dim=2)\n",
        "\n",
        "# ネットワークの初期化を定義\n",
        "\n",
        "\n",
        "def weights_init(m):\n",
        "    classname = m.__class__.__name__\n",
        "    if classname.find('Linear') != -1:\n",
        "        # Liner層の初期化\n",
        "        nn.init.kaiming_normal_(m.weight)\n",
        "        if m.bias is not None:\n",
        "            nn.init.constant_(m.bias, 0.0)\n",
        "\n",
        "\n",
        "# 訓練モードに設定\n",
        "net.train()\n",
        "\n",
        "# TransformerBlockモジュールを初期化実行\n",
        "net.net3_1.apply(weights_init)\n",
        "net.net3_2.apply(weights_init)\n",
        "\n",
        "\n",
        "print('ネットワーク設定完了')"
      ],
      "execution_count": 6,
      "outputs": [
        {
          "output_type": "stream",
          "text": [
            "ネットワーク設定完了\n"
          ],
          "name": "stdout"
        }
      ]
    },
    {
      "cell_type": "code",
      "metadata": {
        "id": "TQg2D4O70jyr",
        "colab_type": "code",
        "colab": {}
      },
      "source": [
        "# 損失関数の設定\n",
        "criterion = nn.CrossEntropyLoss()\n",
        "# nn.LogSoftmax()を計算してからnn.NLLLoss(negative log likelihood loss)を計算\n",
        "\n",
        "# 最適化手法の設定\n",
        "learning_rate = 2e-5\n",
        "optimizer = optim.Adam(net.parameters(), lr=learning_rate)"
      ],
      "execution_count": 0,
      "outputs": []
    },
    {
      "cell_type": "code",
      "metadata": {
        "id": "68-65mQ40owc",
        "colab_type": "code",
        "colab": {}
      },
      "source": [
        "# モデルを学習させる関数を作成\n",
        "\n",
        "\n",
        "def train_model(net, dataloaders_dict, criterion, optimizer, num_epochs):\n",
        "\n",
        "    # GPUが使えるかを確認\n",
        "    device = torch.device(\"cuda:0\" if torch.cuda.is_available() else \"cpu\")\n",
        "    print(\"使用デバイス：\", device)\n",
        "    print('-----start-------')\n",
        "    # ネットワークをGPUへ\n",
        "    net.to(device)\n",
        "\n",
        "    # ネットワークがある程度固定であれば、高速化させる\n",
        "    torch.backends.cudnn.benchmark = True\n",
        "\n",
        "    # epochのループ\n",
        "    for epoch in range(num_epochs):\n",
        "        # epochごとの訓練と検証のループ\n",
        "        for phase in ['train', 'val']:\n",
        "            if phase == 'train':\n",
        "                net.train()  # モデルを訓練モードに\n",
        "            else:\n",
        "                net.eval()   # モデルを検証モードに\n",
        "\n",
        "            epoch_loss = 0.0  # epochの損失和\n",
        "            epoch_corrects = 0  # epochの正解数\n",
        "\n",
        "            # データローダーからミニバッチを取り出すループ\n",
        "            for batch in (dataloaders_dict[phase]):\n",
        "                # batchはTextとLableの辞書オブジェクト\n",
        "\n",
        "                # GPUが使えるならGPUにデータを送る\n",
        "                inputs = batch.Text[0].to(device)  # 文章\n",
        "                labels = batch.Label.to(device)  # ラベル\n",
        "\n",
        "                # optimizerを初期化\n",
        "                optimizer.zero_grad()\n",
        "\n",
        "                # 順伝搬（forward）計算\n",
        "                with torch.set_grad_enabled(phase == 'train'):\n",
        "\n",
        "                    # mask作成\n",
        "                    input_pad = 1  # 単語のIDにおいて、'<pad>': 1 なので\n",
        "                    input_mask = (inputs != input_pad)\n",
        "\n",
        "                    # Transformerに入力\n",
        "                    outputs, _, _ = net(inputs, input_mask)\n",
        "                    loss = criterion(outputs, labels)  # 損失を計算\n",
        "\n",
        "                    _, preds = torch.max(outputs, 1)  # ラベルを予測\n",
        "\n",
        "                    # 訓練時はバックプロパゲーション\n",
        "                    if phase == 'train':\n",
        "                        loss.backward()\n",
        "                        optimizer.step()\n",
        "\n",
        "                    # 結果の計算\n",
        "                    epoch_loss += loss.item() * inputs.size(0)  # lossの合計を更新\n",
        "                    # 正解数の合計を更新\n",
        "                    epoch_corrects += torch.sum(preds == labels.data)\n",
        "\n",
        "            # epochごとのlossと正解率\n",
        "            epoch_loss = epoch_loss / len(dataloaders_dict[phase].dataset)\n",
        "            epoch_acc = epoch_corrects.double(\n",
        "            ) / len(dataloaders_dict[phase].dataset)\n",
        "\n",
        "            print('Epoch {}/{} | {:^5} |  Loss: {:.4f} Acc: {:.4f}'.format(epoch+1, num_epochs,\n",
        "                                                                           phase, epoch_loss, epoch_acc))\n",
        "\n",
        "    return net"
      ],
      "execution_count": 0,
      "outputs": []
    },
    {
      "cell_type": "code",
      "metadata": {
        "id": "wMqn23l_0s8S",
        "colab_type": "code",
        "colab": {
          "base_uri": "https://localhost:8080/",
          "height": 399
        },
        "outputId": "4258b3dd-43a9-418e-82be-29f775105268"
      },
      "source": [
        "\n",
        "# 学習・検証を実行する 15分ほどかかります\n",
        "num_epochs = 10\n",
        "net_trained = train_model(net, dataloaders_dict,\n",
        "                          criterion, optimizer, num_epochs=num_epochs)"
      ],
      "execution_count": 10,
      "outputs": [
        {
          "output_type": "stream",
          "text": [
            "使用デバイス： cuda:0\n",
            "-----start-------\n",
            "Epoch 1/10 | train |  Loss: 0.5999 Acc: 0.6666\n",
            "Epoch 1/10 |  val  |  Loss: 0.4331 Acc: 0.8018\n",
            "Epoch 2/10 | train |  Loss: 0.4383 Acc: 0.8019\n",
            "Epoch 2/10 |  val  |  Loss: 0.3932 Acc: 0.8208\n",
            "Epoch 3/10 | train |  Loss: 0.4070 Acc: 0.8199\n",
            "Epoch 3/10 |  val  |  Loss: 0.3781 Acc: 0.8320\n",
            "Epoch 4/10 | train |  Loss: 0.3860 Acc: 0.8288\n",
            "Epoch 4/10 |  val  |  Loss: 0.3583 Acc: 0.8434\n",
            "Epoch 5/10 | train |  Loss: 0.3700 Acc: 0.8357\n",
            "Epoch 5/10 |  val  |  Loss: 0.3491 Acc: 0.8478\n",
            "Epoch 6/10 | train |  Loss: 0.3584 Acc: 0.8432\n",
            "Epoch 6/10 |  val  |  Loss: 0.3446 Acc: 0.8516\n",
            "Epoch 7/10 | train |  Loss: 0.3470 Acc: 0.8496\n",
            "Epoch 7/10 |  val  |  Loss: 0.3372 Acc: 0.8538\n",
            "Epoch 8/10 | train |  Loss: 0.3427 Acc: 0.8505\n",
            "Epoch 8/10 |  val  |  Loss: 0.3339 Acc: 0.8568\n",
            "Epoch 9/10 | train |  Loss: 0.3382 Acc: 0.8534\n",
            "Epoch 9/10 |  val  |  Loss: 0.3522 Acc: 0.8544\n",
            "Epoch 10/10 | train |  Loss: 0.3329 Acc: 0.8551\n",
            "Epoch 10/10 |  val  |  Loss: 0.3425 Acc: 0.8558\n"
          ],
          "name": "stdout"
        }
      ]
    },
    {
      "cell_type": "code",
      "metadata": {
        "id": "exdMx8nt0xhx",
        "colab_type": "code",
        "colab": {
          "base_uri": "https://localhost:8080/",
          "height": 34
        },
        "outputId": "154c2c68-6178-432b-955b-dabae3e43580"
      },
      "source": [
        "# device\n",
        "device = torch.device(\"cuda:0\" if torch.cuda.is_available() else \"cpu\")\n",
        "\n",
        "net_trained.eval()   # モデルを検証モードに\n",
        "net_trained.to(device)\n",
        "\n",
        "epoch_corrects = 0  # epochの正解数\n",
        "\n",
        "for batch in (test_dl):  # testデータのDataLoader\n",
        "    # batchはTextとLableの辞書オブジェクト\n",
        "    \n",
        "    # GPUが使えるならGPUにデータを送る\n",
        "    inputs = batch.Text[0].to(device)  # 文章\n",
        "    labels = batch.Label.to(device)  # ラベル\n",
        "\n",
        "    # 順伝搬（forward）計算\n",
        "    with torch.set_grad_enabled(False):\n",
        "\n",
        "        # mask作成\n",
        "        input_pad = 1  # 単語のIDにおいて、'<pad>': 1 なので\n",
        "        input_mask = (inputs != input_pad)\n",
        "\n",
        "        # Transformerに入力\n",
        "        outputs, _, _ = net_trained(inputs, input_mask)\n",
        "        _, preds = torch.max(outputs, 1)  # ラベルを予測\n",
        "\n",
        "        # 結果の計算\n",
        "        # 正解数の合計を更新\n",
        "        epoch_corrects += torch.sum(preds == labels.data)\n",
        "\n",
        "# 正解率\n",
        "epoch_acc = epoch_corrects.double() / len(test_dl.dataset)\n",
        "\n",
        "print('テストデータ{}個での正解率：{:.4f}'.format(len(test_dl.dataset),epoch_acc))"
      ],
      "execution_count": 11,
      "outputs": [
        {
          "output_type": "stream",
          "text": [
            "テストデータ25000個での正解率：0.8447\n"
          ],
          "name": "stdout"
        }
      ]
    },
    {
      "cell_type": "code",
      "metadata": {
        "id": "GnPJkppn00Dn",
        "colab_type": "code",
        "colab": {}
      },
      "source": [
        "# HTMLを作成する関数を実装\n",
        "\n",
        "\n",
        "def highlight(word, attn):\n",
        "    \"Attentionの値が大きいと文字の背景が濃い赤になるhtmlを出力させる関数\"\n",
        "\n",
        "    html_color = '#%02X%02X%02X' % (\n",
        "        255, int(255*(1 - attn)), int(255*(1 - attn)))\n",
        "    return '<span style=\"background-color: {}\"> {}</span>'.format(html_color, word)\n",
        "\n",
        "\n",
        "def mk_html(index, batch, preds, normlized_weights_1, normlized_weights_2, TEXT):\n",
        "    \"HTMLデータを作成する\"\n",
        "\n",
        "    # indexの結果を抽出\n",
        "    sentence = batch.Text[0][index]  # 文章\n",
        "    label = batch.Label[index]  # ラベル\n",
        "    pred = preds[index]  # 予測\n",
        "    print(sentence)\n",
        "    # indexのAttentionを抽出と規格化\n",
        "    attens1 = normlized_weights_1[index, 0, :]  # 0番目の<cls>のAttention\n",
        "    attens1 /= attens1.max()\n",
        "    print(attens1)\n",
        "    attens2 = normlized_weights_2[index, 0, :]  # 0番目の<cls>のAttention\n",
        "    attens2 /= attens2.max()\n",
        "\n",
        "    # ラベルと予測結果を文字に置き換え\n",
        "    if label == 0:\n",
        "        label_str = \"Negative\"\n",
        "    else:\n",
        "        label_str = \"Positive\"\n",
        "\n",
        "    if pred == 0:\n",
        "        pred_str = \"Negative\"\n",
        "    else:\n",
        "        pred_str = \"Positive\"\n",
        "\n",
        "    # 表示用のHTMLを作成する\n",
        "    html = '正解ラベル：{}<br>推論ラベル：{}<br><br>'.format(label_str, pred_str)\n",
        "\n",
        "    # 1段目のAttention\n",
        "    html += '[TransformerBlockの1段目のAttentionを可視化]<br>'\n",
        "    for word, attn in zip(sentence, attens1):\n",
        "        html += highlight(TEXT.vocab.itos[word], attn)\n",
        "    html += \"<br><br>\"\n",
        "\n",
        "    # 2段目のAttention\n",
        "    html += '[TransformerBlockの2段目のAttentionを可視化]<br>'\n",
        "    for word, attn in zip(sentence, attens2):\n",
        "        html += highlight(TEXT.vocab.itos[word], attn)\n",
        "\n",
        "    html += \"<br><br>\"\n",
        "\n",
        "    return html"
      ],
      "execution_count": 0,
      "outputs": []
    },
    {
      "cell_type": "code",
      "metadata": {
        "id": "FTXiYebb1J7n",
        "colab_type": "code",
        "colab": {
          "base_uri": "https://localhost:8080/",
          "height": 1000
        },
        "outputId": "45f36255-5a88-4863-c82a-2454e96151ff"
      },
      "source": [
        "from IPython.display import HTML\n",
        "\n",
        "# Transformerで処理\n",
        "\n",
        "# ミニバッチの用意\n",
        "batch = next(iter(test_dl))\n",
        "\n",
        "# GPUが使えるならGPUにデータを送る\n",
        "inputs = batch.Text[0].to(device)  # 文章\n",
        "labels = batch.Label.to(device)  # ラベル\n",
        "\n",
        "# mask作成\n",
        "input_pad = 1  # 単語のIDにおいて、'<pad>': 1 なので\n",
        "input_mask = (inputs != input_pad)\n",
        "\n",
        "# Transformerに入力\n",
        "outputs, normlized_weights_1, normlized_weights_2 = net_trained(\n",
        "    inputs, input_mask)\n",
        "_, preds = torch.max(outputs, 1)  # ラベルを予測\n",
        "\n",
        "\n",
        "index = 3  # 出力させたいデータ\n",
        "html_output = mk_html(index, batch, preds, normlized_weights_1,\n",
        "                      normlized_weights_2, TEXT)  # HTML作成\n",
        "HTML(html_output)  # HTML形式で出力"
      ],
      "execution_count": 13,
      "outputs": [
        {
          "output_type": "stream",
          "text": [
            "tensor([    2,   434,    10,     4,  4772,  8600,     9,  1774,  5766,   510,\n",
            "         7764, 10174,   297,     6,  4847,     6,     0,     7,     8,   374,\n",
            "            9,    88,  2433,  4651,     5,    44,    30,    41,   176,   105,\n",
            "         4633,    20,   186,   440,     5,     5,     5,    23,    15,    34,\n",
            "           11,     6,     7,    12,    17,    90,     5,   152,     4,   115,\n",
            "           11,     8,   123,  5846,    84,     4,   408,     9,     4,  7696,\n",
            "           13,     4,    21,     6,    12,    11,     8,   397,    67,    20,\n",
            "          440,     5,     7,    14,   520,    12,     6,   102,     5,     4,\n",
            "           24,   188,    76,  3356,  1174,  2433,  6288,   221,   116,     6,\n",
            "          261,     8,   123,  3814,     5,   161,  1900,  3565,     0,  4109,\n",
            "           10,    80,    12,   209,   238,    29,  2089,    60,    13,    16,\n",
            "         2843,     5,    29,   448,     4,    24,    31,   121,  3394,    10,\n",
            "         2433,     5,  3173,  5852,  4531,   306,     4,   704,  1516,     9,\n",
            "         2150, 10778,  3296,     7,   746,  2465,  2338,  3449,     5,   109,\n",
            "         2338,  3449,  2459,  3449,  6386,    57,    17,    59,    54,     7,\n",
            "           14,   106,    57,    87,    33,    13,    58,   111,     5,    44,\n",
            "           30,    84,  1996,  3206,    42,  2459,  3449,     6,  1581,  4437,\n",
            "            6,  5043,   724,     0,     6,  1270,     0,     6,   682,  4749,\n",
            "         5623,     6,   856, 14798,     7, 13887,  5490,  2711,     0,     7,\n",
            "            0,     0,     5,    50,    25,    32,   186,   440,    46,    47,\n",
            "          189,    10,    70,     8,   235,    54,    21,     6,   833,    49,\n",
            "         1774,  5766,    56,    12,   268,    10,   134,   538,  1509,   298,\n",
            "           15,  3301,     5,  4482,    35,    87,   367,    12,     7,    12,\n",
            "           87,    98,    25,   235,    54,     5,    14,   482,   238,    14,\n",
            "          147,    42,  1174,  2433,     6,    14,   242,    33,     8,   123,\n",
            "         5376,     5,     5,     5, 13820,     3])\n",
            "tensor([2.9543e-02, 1.0394e-01, 1.1860e-02, 1.0190e-02, 1.6660e-01, 7.5690e-03,\n",
            "        5.5678e-03, 1.2019e-01, 6.2153e-02, 1.8281e-02, 8.0260e-02, 3.8417e-02,\n",
            "        4.9515e-02, 1.3411e-03, 2.7005e-02, 1.3625e-03, 4.3554e-03, 1.2237e-03,\n",
            "        1.1391e-02, 1.6095e-03, 4.4778e-03, 1.9703e-03, 2.7573e-02, 2.0033e-02,\n",
            "        1.1063e-03, 5.5899e-03, 1.1138e-02, 1.4114e-03, 9.3810e-03, 5.0643e-02,\n",
            "        1.5536e-01, 3.1939e-03, 1.8408e-02, 1.0208e-02, 7.1845e-04, 7.8326e-04,\n",
            "        8.2830e-04, 2.3777e-03, 3.5895e-02, 1.8583e-02, 7.2929e-03, 1.3166e-03,\n",
            "        1.3735e-03, 3.2344e-03, 8.3906e-03, 5.3554e-01, 7.4038e-04, 8.3024e-03,\n",
            "        7.5187e-03, 1.9580e-01, 1.3211e-02, 2.4287e-02, 4.3331e-02, 2.9258e-01,\n",
            "        6.1953e-03, 5.2106e-03, 3.8886e-02, 7.2857e-03, 7.7931e-03, 3.6840e-02,\n",
            "        1.8535e-03, 7.9485e-03, 8.3960e-02, 1.8415e-03, 3.6219e-03, 1.0498e-02,\n",
            "        1.8031e-02, 1.0000e+00, 5.5631e-02, 3.5972e-03, 1.1429e-02, 9.0731e-04,\n",
            "        1.9367e-03, 1.0542e-02, 9.8848e-01, 5.3457e-03, 2.4957e-03, 1.1669e-02,\n",
            "        8.6680e-04, 6.3948e-03, 3.4031e-02, 8.9908e-03, 9.1724e-03, 2.4647e-02,\n",
            "        1.2504e-02, 3.5415e-02, 7.7499e-02, 2.0381e-02, 2.2283e-02, 1.8851e-03,\n",
            "        7.9300e-03, 1.7249e-02, 3.5536e-02, 7.1700e-02, 8.8633e-04, 2.7723e-01,\n",
            "        1.6913e-01, 6.4387e-03, 2.9704e-02, 4.5619e-02, 9.8619e-03, 5.7566e-03,\n",
            "        4.0244e-03, 5.7707e-03, 2.0949e-02, 1.2645e-03, 4.3201e-02, 4.0674e-02,\n",
            "        2.2283e-03, 1.2445e-02, 4.8566e-02, 1.1615e-03, 1.3744e-03, 6.7549e-02,\n",
            "        8.6999e-03, 4.3924e-02, 9.9605e-03, 1.6262e-01, 1.3597e-02, 6.0431e-03,\n",
            "        2.6263e-02, 7.7812e-04, 1.4887e-02, 5.7390e-03, 7.7756e-03, 3.0868e-02,\n",
            "        5.0821e-03, 2.0404e-01, 6.1298e-02, 9.5416e-03, 6.4751e-01, 8.5275e-03,\n",
            "        7.9726e-03, 1.0783e-03, 3.9540e-02, 4.1244e-03, 6.8339e-03, 1.7030e-02,\n",
            "        8.1611e-04, 5.8254e-02, 6.3934e-03, 1.4719e-02, 2.0357e-03, 1.6625e-02,\n",
            "        1.8228e-02, 8.5398e-04, 7.1364e-03, 3.6652e-03, 3.0157e-01, 1.4059e-03,\n",
            "        8.8396e-03, 3.6968e-02, 1.1852e-03, 4.9146e-02, 8.9731e-03, 2.6554e-03,\n",
            "        3.5576e-03, 8.3629e-02, 9.0838e-04, 3.6868e-03, 7.8697e-03, 6.6680e-03,\n",
            "        1.6716e-01, 1.3501e-01, 3.2683e-03, 2.5335e-03, 1.7889e-02, 1.6131e-03,\n",
            "        6.1375e-03, 1.6357e-02, 1.9334e-03, 1.2521e-02, 6.6948e-03, 8.5942e-03,\n",
            "        1.6286e-03, 6.3547e-02, 9.0318e-03, 2.0134e-03, 1.4160e-02, 2.7450e-03,\n",
            "        4.2111e-01, 1.7376e-03, 1.1168e-02, 1.0816e-02, 1.7104e-03, 2.3883e-02,\n",
            "        4.5609e-01, 2.4723e-02, 1.7966e-02, 2.0367e-03, 9.5944e-03, 6.6837e-03,\n",
            "        7.4496e-04, 4.9367e-04, 7.9393e-03, 3.0381e-02, 2.3880e-02, 1.2401e-02,\n",
            "        1.0899e-03, 1.9235e-02, 6.9594e-02, 6.2152e-03, 3.9563e-02, 1.9176e-02,\n",
            "        1.4529e-02, 5.1399e-01, 9.6680e-02, 2.1881e-03, 5.5726e-02, 1.0710e-02,\n",
            "        2.2058e-01, 9.3862e-02, 1.9721e-03, 3.5283e-03, 5.6538e-02, 5.6266e-03,\n",
            "        4.7441e-02, 6.2001e-03, 2.8304e-02, 4.5825e-04, 4.4058e-02, 4.4501e-03,\n",
            "        9.9666e-04, 1.3134e-02, 2.1623e-02, 4.1006e-02, 2.8589e-01, 4.2184e-03,\n",
            "        2.2041e-03, 4.9196e-03, 4.9679e-02, 2.9468e-02, 1.1297e-02, 1.7783e-02,\n",
            "        6.3098e-01, 1.5102e-03, 1.2394e-02, 2.4333e-02, 2.0169e-02, 7.8239e-03,\n",
            "        3.1503e-03, 2.0133e-03, 7.7050e-03, 2.6621e-02, 1.5949e-03, 8.1838e-03,\n",
            "        3.2096e-02, 6.8362e-03, 2.1183e-02, 5.3249e-02, 5.7112e-02, 1.4006e-03,\n",
            "        1.1790e-03, 1.0028e-03, 5.7220e-02, 1.5299e-02], device='cuda:0',\n",
            "       grad_fn=<AsStridedBackward>)\n"
          ],
          "name": "stdout"
        },
        {
          "output_type": "execute_result",
          "data": {
            "text/html": [
              "正解ラベル：Positive<br>推論ラベル：Positive<br><br>[TransformerBlockの1段目のAttentionを可視化]<br><span style=\"background-color: #FFF7F7\"> <cls></span><span style=\"background-color: #FFE4E4\"> went</span><span style=\"background-color: #FFFBFB\"> to</span><span style=\"background-color: #FFFCFC\"> the</span><span style=\"background-color: #FFD4D4\"> preview</span><span style=\"background-color: #FFFDFD\"> engagement</span><span style=\"background-color: #FFFDFD\"> of</span><span style=\"background-color: #FFE0E0\"> grand</span><span style=\"background-color: #FFEFEF\"> champion</span><span style=\"background-color: #FFFAFA\"> today</span><span style=\"background-color: #FFEAEA\"> dallas</span><span style=\"background-color: #FFF5F5\"> fort</span><span style=\"background-color: #FFF2F2\"> worth</span><span style=\"background-color: #FFFEFE\"> ,</span><span style=\"background-color: #FFF8F8\"> austin</span><span style=\"background-color: #FFFEFE\"> ,</span><span style=\"background-color: #FFFDFD\"> <unk></span><span style=\"background-color: #FFFEFE\"> and</span><span style=\"background-color: #FFFCFC\"> a</span><span style=\"background-color: #FFFEFE\"> couple</span><span style=\"background-color: #FFFDFD\"> of</span><span style=\"background-color: #FFFEFE\"> other</span><span style=\"background-color: #FFF7F7\"> texas</span><span style=\"background-color: #FFF9F9\"> cities</span><span style=\"background-color: #FFFEFE\"> .</span><span style=\"background-color: #FFFDFD\"> there</span><span style=\"background-color: #FFFCFC\"> are</span><span style=\"background-color: #FFFEFE\"> so</span><span style=\"background-color: #FFFCFC\"> few</span><span style=\"background-color: #FFF2F2\"> movies</span><span style=\"background-color: #FFD7D7\"> suitable</span><span style=\"background-color: #FFFEFE\"> for</span><span style=\"background-color: #FFFAFA\"> young</span><span style=\"background-color: #FFFCFC\"> children</span><span style=\"background-color: #FFFEFE\"> .</span><span style=\"background-color: #FFFEFE\"> .</span><span style=\"background-color: #FFFEFE\"> .</span><span style=\"background-color: #FFFEFE\"> but</span><span style=\"background-color: #FFF5F5\"> this</span><span style=\"background-color: #FFFAFA\"> one</span><span style=\"background-color: #FFFDFD\"> is</span><span style=\"background-color: #FFFEFE\"> ,</span><span style=\"background-color: #FFFEFE\"> and</span><span style=\"background-color: #FFFEFE\"> it</span><span style=\"background-color: #FFFCFC\"> s</span><span style=\"background-color: #FF7676\"> great</span><span style=\"background-color: #FFFEFE\"> .</span><span style=\"background-color: #FFFCFC\"> though</span><span style=\"background-color: #FFFDFD\"> the</span><span style=\"background-color: #FFCDCD\"> plot</span><span style=\"background-color: #FFFBFB\"> is</span><span style=\"background-color: #FFF8F8\"> a</span><span style=\"background-color: #FFF3F3\"> little</span><span style=\"background-color: #FFB4B4\"> hokey</span><span style=\"background-color: #FFFDFD\"> also</span><span style=\"background-color: #FFFDFD\"> the</span><span style=\"background-color: #FFF5F5\"> name</span><span style=\"background-color: #FFFDFD\"> of</span><span style=\"background-color: #FFFDFD\"> the</span><span style=\"background-color: #FFF5F5\"> steer</span><span style=\"background-color: #FFFEFE\"> in</span><span style=\"background-color: #FFFCFC\"> the</span><span style=\"background-color: #FFE9E9\"> movie</span><span style=\"background-color: #FFFEFE\"> ,</span><span style=\"background-color: #FFFEFE\"> it</span><span style=\"background-color: #FFFCFC\"> is</span><span style=\"background-color: #FFFAFA\"> a</span><span style=\"background-color: #FF0000\"> wonderful</span><span style=\"background-color: #FFF0F0\"> story</span><span style=\"background-color: #FFFEFE\"> for</span><span style=\"background-color: #FFFCFC\"> children</span><span style=\"background-color: #FFFEFE\"> .</span><span style=\"background-color: #FFFEFE\"> and</span><span style=\"background-color: #FFFCFC\"> i</span><span style=\"background-color: #FF0202\"> enjoyed</span><span style=\"background-color: #FFFDFD\"> it</span><span style=\"background-color: #FFFEFE\"> ,</span><span style=\"background-color: #FFFCFC\"> too</span><span style=\"background-color: #FFFEFE\"> .</span><span style=\"background-color: #FFFDFD\"> the</span><span style=\"background-color: #FFF6F6\"> film</span><span style=\"background-color: #FFFCFC\"> pretty</span><span style=\"background-color: #FFFCFC\"> well</span><span style=\"background-color: #FFF8F8\"> represents</span><span style=\"background-color: #FFFBFB\"> west</span><span style=\"background-color: #FFF5F5\"> texas</span><span style=\"background-color: #FFEBEB\"> ranch</span><span style=\"background-color: #FFF9F9\"> family</span><span style=\"background-color: #FFF9F9\"> life</span><span style=\"background-color: #FFFEFE\"> ,</span><span style=\"background-color: #FFFCFC\"> although</span><span style=\"background-color: #FFFAFA\"> a</span><span style=\"background-color: #FFF5F5\"> little</span><span style=\"background-color: #FFECEC\"> exaggerated</span><span style=\"background-color: #FFFEFE\"> .</span><span style=\"background-color: #FFB8B8\"> director</span><span style=\"background-color: #FFD3D3\"> author</span><span style=\"background-color: #FFFDFD\"> barry</span><span style=\"background-color: #FFF7F7\"> <unk></span><span style=\"background-color: #FFF3F3\"> ought</span><span style=\"background-color: #FFFCFC\"> to</span><span style=\"background-color: #FFFDFD\"> get</span><span style=\"background-color: #FFFDFD\"> it</span><span style=\"background-color: #FFFDFD\"> right</span><span style=\"background-color: #FFF9F9\"> since</span><span style=\"background-color: #FFFEFE\"> he</span><span style=\"background-color: #FFF3F3\"> grew</span><span style=\"background-color: #FFF4F4\"> up</span><span style=\"background-color: #FFFEFE\"> in</span><span style=\"background-color: #FFFBFB\"> that</span><span style=\"background-color: #FFF2F2\"> environment</span><span style=\"background-color: #FFFEFE\"> .</span><span style=\"background-color: #FFFEFE\"> he</span><span style=\"background-color: #FFEDED\"> called</span><span style=\"background-color: #FFFCFC\"> the</span><span style=\"background-color: #FFF3F3\"> film</span><span style=\"background-color: #FFFCFC\"> his</span><span style=\"background-color: #FFD5D5\"> love</span><span style=\"background-color: #FFFBFB\"> letter</span><span style=\"background-color: #FFFDFD\"> to</span><span style=\"background-color: #FFF8F8\"> texas</span><span style=\"background-color: #FFFEFE\"> .</span><span style=\"background-color: #FFFBFB\"> joey</span><span style=\"background-color: #FFFDFD\"> lauren</span><span style=\"background-color: #FFFDFD\"> adams</span><span style=\"background-color: #FFF7F7\"> plays</span><span style=\"background-color: #FFFDFD\"> the</span><span style=\"background-color: #FFCACA\"> single</span><span style=\"background-color: #FFEFEF\"> mom</span><span style=\"background-color: #FFFCFC\"> of</span><span style=\"background-color: #FF5959\"> buddy</span><span style=\"background-color: #FFFCFC\"> jacob</span><span style=\"background-color: #FFFCFC\"> fisher</span><span style=\"background-color: #FFFEFE\"> and</span><span style=\"background-color: #FFF4F4\"> sister</span><span style=\"background-color: #FFFDFD\"> blow</span><span style=\"background-color: #FFFDFD\"> emma</span><span style=\"background-color: #FFFAFA\"> roberts</span><span style=\"background-color: #FFFEFE\"> .</span><span style=\"background-color: #FFF0F0\"> watch</span><span style=\"background-color: #FFFDFD\"> emma</span><span style=\"background-color: #FFFBFB\"> roberts</span><span style=\"background-color: #FFFEFE\"> julia</span><span style=\"background-color: #FFFAFA\"> roberts</span><span style=\"background-color: #FFFAFA\"> niece</span><span style=\"background-color: #FFFEFE\"> she</span><span style=\"background-color: #FFFDFD\"> s</span><span style=\"background-color: #FFFEFE\"> very</span><span style=\"background-color: #FFB2B2\"> good</span><span style=\"background-color: #FFFEFE\"> and</span><span style=\"background-color: #FFFCFC\"> i</span><span style=\"background-color: #FFF5F5\"> think</span><span style=\"background-color: #FFFEFE\"> she</span><span style=\"background-color: #FFF2F2\"> will</span><span style=\"background-color: #FFFCFC\"> be</span><span style=\"background-color: #FFFEFE\"> in</span><span style=\"background-color: #FFFEFE\"> more</span><span style=\"background-color: #FFE9E9\"> films</span><span style=\"background-color: #FFFEFE\"> .</span><span style=\"background-color: #FFFEFE\"> there</span><span style=\"background-color: #FFFCFC\"> are</span><span style=\"background-color: #FFFDFD\"> also</span><span style=\"background-color: #FFD4D4\"> cameo</span><span style=\"background-color: #FFDCDC\"> appearances</span><span style=\"background-color: #FFFEFE\"> from</span><span style=\"background-color: #FFFEFE\"> julia</span><span style=\"background-color: #FFFAFA\"> roberts</span><span style=\"background-color: #FFFEFE\"> ,</span><span style=\"background-color: #FFFDFD\"> bruce</span><span style=\"background-color: #FFFAFA\"> willis</span><span style=\"background-color: #FFFEFE\"> ,</span><span style=\"background-color: #FFFBFB\"> musicians</span><span style=\"background-color: #FFFDFD\"> george</span><span style=\"background-color: #FFFCFC\"> <unk></span><span style=\"background-color: #FFFEFE\"> ,</span><span style=\"background-color: #FFEEEE\"> charlie</span><span style=\"background-color: #FFFCFC\"> <unk></span><span style=\"background-color: #FFFEFE\"> ,</span><span style=\"background-color: #FFFBFB\"> robert</span><span style=\"background-color: #FFFEFE\"> earl</span><span style=\"background-color: #FF9393\"> keen</span><span style=\"background-color: #FFFEFE\"> ,</span><span style=\"background-color: #FFFCFC\"> joe</span><span style=\"background-color: #FFFCFC\"> ely</span><span style=\"background-color: #FFFEFE\"> and</span><span style=\"background-color: #FFF8F8\"> rodeo</span><span style=\"background-color: #FF8A8A\"> legends</span><span style=\"background-color: #FFF8F8\"> larry</span><span style=\"background-color: #FFFAFA\"> <unk></span><span style=\"background-color: #FFFEFE\"> and</span><span style=\"background-color: #FFFCFC\"> <unk></span><span style=\"background-color: #FFFDFD\"> <unk></span><span style=\"background-color: #FFFEFE\"> .</span><span style=\"background-color: #FFFEFE\"> if</span><span style=\"background-color: #FFFCFC\"> you</span><span style=\"background-color: #FFF7F7\"> have</span><span style=\"background-color: #FFF8F8\"> young</span><span style=\"background-color: #FFFBFB\"> children</span><span style=\"background-color: #FFFEFE\"> or</span><span style=\"background-color: #FFFAFA\"> just</span><span style=\"background-color: #FFEDED\"> want</span><span style=\"background-color: #FFFDFD\"> to</span><span style=\"background-color: #FFF4F4\"> see</span><span style=\"background-color: #FFFAFA\"> a</span><span style=\"background-color: #FFFBFB\"> feel</span><span style=\"background-color: #FF7B7B\"> good</span><span style=\"background-color: #FFE6E6\"> movie</span><span style=\"background-color: #FFFEFE\"> ,</span><span style=\"background-color: #FFF0F0\"> check</span><span style=\"background-color: #FFFCFC\"> out</span><span style=\"background-color: #FFC6C6\"> grand</span><span style=\"background-color: #FFE7E7\"> champion</span><span style=\"background-color: #FFFEFE\"> when</span><span style=\"background-color: #FFFEFE\"> it</span><span style=\"background-color: #FFF0F0\"> comes</span><span style=\"background-color: #FFFDFD\"> to</span><span style=\"background-color: #FFF2F2\"> your</span><span style=\"background-color: #FFFDFD\"> city</span><span style=\"background-color: #FFF7F7\"> supposedly</span><span style=\"background-color: #FFFEFE\"> later</span><span style=\"background-color: #FFF3F3\"> this</span><span style=\"background-color: #FFFDFD\"> month</span><span style=\"background-color: #FFFEFE\"> .</span><span style=\"background-color: #FFFBFB\"> y</span><span style=\"background-color: #FFF9F9\"> all</span><span style=\"background-color: #FFF4F4\"> will</span><span style=\"background-color: #FFB6B6\"> enjoy</span><span style=\"background-color: #FFFDFD\"> it</span><span style=\"background-color: #FFFEFE\"> and</span><span style=\"background-color: #FFFDFD\"> it</span><span style=\"background-color: #FFF2F2\"> will</span><span style=\"background-color: #FFF7F7\"> make</span><span style=\"background-color: #FFFCFC\"> you</span><span style=\"background-color: #FFFAFA\"> feel</span><span style=\"background-color: #FF5E5E\"> good</span><span style=\"background-color: #FFFEFE\"> .</span><span style=\"background-color: #FFFBFB\"> i</span><span style=\"background-color: #FFF8F8\"> guess</span><span style=\"background-color: #FFF9F9\"> since</span><span style=\"background-color: #FFFDFD\"> i</span><span style=\"background-color: #FFFEFE\"> m</span><span style=\"background-color: #FFFEFE\"> from</span><span style=\"background-color: #FFFDFD\"> west</span><span style=\"background-color: #FFF8F8\"> texas</span><span style=\"background-color: #FFFEFE\"> ,</span><span style=\"background-color: #FFFCFC\"> i</span><span style=\"background-color: #FFF6F6\"> might</span><span style=\"background-color: #FFFDFD\"> be</span><span style=\"background-color: #FFF9F9\"> a</span><span style=\"background-color: #FFF1F1\"> little</span><span style=\"background-color: #FFF0F0\"> biased</span><span style=\"background-color: #FFFEFE\"> .</span><span style=\"background-color: #FFFEFE\"> .</span><span style=\"background-color: #FFFEFE\"> .</span><span style=\"background-color: #FFF0F0\"> nah</span><span style=\"background-color: #FFFBFB\"> <eos></span><br><br>[TransformerBlockの2段目のAttentionを可視化]<br><span style=\"background-color: #FFFEFE\"> <cls></span><span style=\"background-color: #FFFEFE\"> went</span><span style=\"background-color: #FFFEFE\"> to</span><span style=\"background-color: #FFFEFE\"> the</span><span style=\"background-color: #FFFBFB\"> preview</span><span style=\"background-color: #FFFCFC\"> engagement</span><span style=\"background-color: #FFFBFB\"> of</span><span style=\"background-color: #FFFDFD\"> grand</span><span style=\"background-color: #FFFCFC\"> champion</span><span style=\"background-color: #FFFDFD\"> today</span><span style=\"background-color: #FFFEFE\"> dallas</span><span style=\"background-color: #FFFEFE\"> fort</span><span style=\"background-color: #FFFBFB\"> worth</span><span style=\"background-color: #FFFDFD\"> ,</span><span style=\"background-color: #FFFCFC\"> austin</span><span style=\"background-color: #FFFCFC\"> ,</span><span style=\"background-color: #FFFEFE\"> <unk></span><span style=\"background-color: #FFFEFE\"> and</span><span style=\"background-color: #FFFCFC\"> a</span><span style=\"background-color: #FFFDFD\"> couple</span><span style=\"background-color: #FFFCFC\"> of</span><span style=\"background-color: #FFF7F7\"> other</span><span style=\"background-color: #FFFEFE\"> texas</span><span style=\"background-color: #FFFDFD\"> cities</span><span style=\"background-color: #FFEFEF\"> .</span><span style=\"background-color: #FFF9F9\"> there</span><span style=\"background-color: #FFDBDB\"> are</span><span style=\"background-color: #FFF9F9\"> so</span><span style=\"background-color: #FFDFDF\"> few</span><span style=\"background-color: #FFFCFC\"> movies</span><span style=\"background-color: #FFD6D6\"> suitable</span><span style=\"background-color: #FFFDFD\"> for</span><span style=\"background-color: #FFFBFB\"> young</span><span style=\"background-color: #FFFCFC\"> children</span><span style=\"background-color: #FFF3F3\"> .</span><span style=\"background-color: #FFF2F2\"> .</span><span style=\"background-color: #FFF1F1\"> .</span><span style=\"background-color: #FFF7F7\"> but</span><span style=\"background-color: #FFEFEF\"> this</span><span style=\"background-color: #FFF1F1\"> one</span><span style=\"background-color: #FFE1E1\"> is</span><span style=\"background-color: #FFFCFC\"> ,</span><span style=\"background-color: #FFFEFE\"> and</span><span style=\"background-color: #FFF8F8\"> it</span><span style=\"background-color: #FFFCFC\"> s</span><span style=\"background-color: #FF7676\"> great</span><span style=\"background-color: #FFF6F6\"> .</span><span style=\"background-color: #FFEBEB\"> though</span><span style=\"background-color: #FFFEFE\"> the</span><span style=\"background-color: #FFFCFC\"> plot</span><span style=\"background-color: #FFD7D7\"> is</span><span style=\"background-color: #FFFBFB\"> a</span><span style=\"background-color: #FFCCCC\"> little</span><span style=\"background-color: #FF9B9B\"> hokey</span><span style=\"background-color: #FFFBFB\"> also</span><span style=\"background-color: #FFFEFE\"> the</span><span style=\"background-color: #FFFEFE\"> name</span><span style=\"background-color: #FFFCFC\"> of</span><span style=\"background-color: #FFFEFE\"> the</span><span style=\"background-color: #FFF4F4\"> steer</span><span style=\"background-color: #FFFCFC\"> in</span><span style=\"background-color: #FFFEFE\"> the</span><span style=\"background-color: #FFFDFD\"> movie</span><span style=\"background-color: #FFFBFB\"> ,</span><span style=\"background-color: #FFF5F5\"> it</span><span style=\"background-color: #FFD4D4\"> is</span><span style=\"background-color: #FFFBFB\"> a</span><span style=\"background-color: #FF7D7D\"> wonderful</span><span style=\"background-color: #FFFEFE\"> story</span><span style=\"background-color: #FFFDFD\"> for</span><span style=\"background-color: #FFFBFB\"> children</span><span style=\"background-color: #FFF2F2\"> .</span><span style=\"background-color: #FFFDFD\"> and</span><span style=\"background-color: #FFFDFD\"> i</span><span style=\"background-color: #FFF9F9\"> enjoyed</span><span style=\"background-color: #FFF2F2\"> it</span><span style=\"background-color: #FFFBFB\"> ,</span><span style=\"background-color: #FFE2E2\"> too</span><span style=\"background-color: #FFF2F2\"> .</span><span style=\"background-color: #FFFEFE\"> the</span><span style=\"background-color: #FFFDFD\"> film</span><span style=\"background-color: #FF5D5D\"> pretty</span><span style=\"background-color: #FF0000\"> well</span><span style=\"background-color: #FFD3D3\"> represents</span><span style=\"background-color: #FFFBFB\"> west</span><span style=\"background-color: #FFFEFE\"> texas</span><span style=\"background-color: #FFFEFE\"> ranch</span><span style=\"background-color: #FFFEFE\"> family</span><span style=\"background-color: #FFFAFA\"> life</span><span style=\"background-color: #FFFBFB\"> ,</span><span style=\"background-color: #FFF2F2\"> although</span><span style=\"background-color: #FFFAFA\"> a</span><span style=\"background-color: #FFC6C6\"> little</span><span style=\"background-color: #FF1F1F\"> exaggerated</span><span style=\"background-color: #FFF7F7\"> .</span><span style=\"background-color: #FFFCFC\"> director</span><span style=\"background-color: #FFFDFD\"> author</span><span style=\"background-color: #FFFDFD\"> barry</span><span style=\"background-color: #FFFEFE\"> <unk></span><span style=\"background-color: #FFFDFD\"> ought</span><span style=\"background-color: #FFFEFE\"> to</span><span style=\"background-color: #FFFDFD\"> get</span><span style=\"background-color: #FFFBFB\"> it</span><span style=\"background-color: #FFF9F9\"> right</span><span style=\"background-color: #FFFCFC\"> since</span><span style=\"background-color: #FFEEEE\"> he</span><span style=\"background-color: #FFFAFA\"> grew</span><span style=\"background-color: #FFF9F9\"> up</span><span style=\"background-color: #FFFCFC\"> in</span><span style=\"background-color: #FFF5F5\"> that</span><span style=\"background-color: #FFF2F2\"> environment</span><span style=\"background-color: #FFF7F7\"> .</span><span style=\"background-color: #FFF3F3\"> he</span><span style=\"background-color: #FFFDFD\"> called</span><span style=\"background-color: #FFFEFE\"> the</span><span style=\"background-color: #FFFEFE\"> film</span><span style=\"background-color: #FFFAFA\"> his</span><span style=\"background-color: #FFFCFC\"> love</span><span style=\"background-color: #FFFDFD\"> letter</span><span style=\"background-color: #FFFEFE\"> to</span><span style=\"background-color: #FFFEFE\"> texas</span><span style=\"background-color: #FFF3F3\"> .</span><span style=\"background-color: #FFFDFD\"> joey</span><span style=\"background-color: #FFFDFD\"> lauren</span><span style=\"background-color: #FFFCFC\"> adams</span><span style=\"background-color: #FFFEFE\"> plays</span><span style=\"background-color: #FFFEFE\"> the</span><span style=\"background-color: #FFFDFD\"> single</span><span style=\"background-color: #FFFDFD\"> mom</span><span style=\"background-color: #FFFDFD\"> of</span><span style=\"background-color: #FFF0F0\"> buddy</span><span style=\"background-color: #FFFEFE\"> jacob</span><span style=\"background-color: #FFFEFE\"> fisher</span><span style=\"background-color: #FFFEFE\"> and</span><span style=\"background-color: #FFFBFB\"> sister</span><span style=\"background-color: #FFF4F4\"> blow</span><span style=\"background-color: #FFF2F2\"> emma</span><span style=\"background-color: #FFF9F9\"> roberts</span><span style=\"background-color: #FFF3F3\"> .</span><span style=\"background-color: #FFF8F8\"> watch</span><span style=\"background-color: #FFF6F6\"> emma</span><span style=\"background-color: #FFFAFA\"> roberts</span><span style=\"background-color: #FFFDFD\"> julia</span><span style=\"background-color: #FFF9F9\"> roberts</span><span style=\"background-color: #FFFAFA\"> niece</span><span style=\"background-color: #FFF6F6\"> she</span><span style=\"background-color: #FFFBFB\"> s</span><span style=\"background-color: #FFBBBB\"> very</span><span style=\"background-color: #FF9494\"> good</span><span style=\"background-color: #FFFCFC\"> and</span><span style=\"background-color: #FFFCFC\"> i</span><span style=\"background-color: #FFF7F7\"> think</span><span style=\"background-color: #FFF4F4\"> she</span><span style=\"background-color: #FFFEFE\"> will</span><span style=\"background-color: #FFFBFB\"> be</span><span style=\"background-color: #FFFCFC\"> in</span><span style=\"background-color: #FFBEBE\"> more</span><span style=\"background-color: #FFFBFB\"> films</span><span style=\"background-color: #FFF1F1\"> .</span><span style=\"background-color: #FFF7F7\"> there</span><span style=\"background-color: #FFDEDE\"> are</span><span style=\"background-color: #FFFCFC\"> also</span><span style=\"background-color: #FFFBFB\"> cameo</span><span style=\"background-color: #FFFCFC\"> appearances</span><span style=\"background-color: #FFFDFD\"> from</span><span style=\"background-color: #FFFDFD\"> julia</span><span style=\"background-color: #FFF8F8\"> roberts</span><span style=\"background-color: #FFFAFA\"> ,</span><span style=\"background-color: #FFF9F9\"> bruce</span><span style=\"background-color: #FFF8F8\"> willis</span><span style=\"background-color: #FFFAFA\"> ,</span><span style=\"background-color: #FFFDFD\"> musicians</span><span style=\"background-color: #FFF9F9\"> george</span><span style=\"background-color: #FFFDFD\"> <unk></span><span style=\"background-color: #FFF8F8\"> ,</span><span style=\"background-color: #FFFBFB\"> charlie</span><span style=\"background-color: #FFFDFD\"> <unk></span><span style=\"background-color: #FFF9F9\"> ,</span><span style=\"background-color: #FFFAFA\"> robert</span><span style=\"background-color: #FFEBEB\"> earl</span><span style=\"background-color: #FFEFEF\"> keen</span><span style=\"background-color: #FFF9F9\"> ,</span><span style=\"background-color: #FFFDFD\"> joe</span><span style=\"background-color: #FFFEFE\"> ely</span><span style=\"background-color: #FFFDFD\"> and</span><span style=\"background-color: #FFFEFE\"> rodeo</span><span style=\"background-color: #FFFCFC\"> legends</span><span style=\"background-color: #FFFEFE\"> larry</span><span style=\"background-color: #FFFEFE\"> <unk></span><span style=\"background-color: #FFFDFD\"> and</span><span style=\"background-color: #FFFEFE\"> <unk></span><span style=\"background-color: #FFFEFE\"> <unk></span><span style=\"background-color: #FFF5F5\"> .</span><span style=\"background-color: #FFF1F1\"> if</span><span style=\"background-color: #FFF5F5\"> you</span><span style=\"background-color: #FFFBFB\"> have</span><span style=\"background-color: #FFFBFB\"> young</span><span style=\"background-color: #FFFBFB\"> children</span><span style=\"background-color: #FFF5F5\"> or</span><span style=\"background-color: #FFFBFB\"> just</span><span style=\"background-color: #FFF9F9\"> want</span><span style=\"background-color: #FFFEFE\"> to</span><span style=\"background-color: #FFF9F9\"> see</span><span style=\"background-color: #FFFAFA\"> a</span><span style=\"background-color: #FFC2C2\"> feel</span><span style=\"background-color: #FF9E9E\"> good</span><span style=\"background-color: #FFFDFD\"> movie</span><span style=\"background-color: #FFFAFA\"> ,</span><span style=\"background-color: #FFFEFE\"> check</span><span style=\"background-color: #FFF2F2\"> out</span><span style=\"background-color: #FFFDFD\"> grand</span><span style=\"background-color: #FFFBFB\"> champion</span><span style=\"background-color: #FFFCFC\"> when</span><span style=\"background-color: #FFF4F4\"> it</span><span style=\"background-color: #FFECEC\"> comes</span><span style=\"background-color: #FFFEFE\"> to</span><span style=\"background-color: #FFF8F8\"> your</span><span style=\"background-color: #FFFEFE\"> city</span><span style=\"background-color: #FFF2F2\"> supposedly</span><span style=\"background-color: #FFFBFB\"> later</span><span style=\"background-color: #FFEAEA\"> this</span><span style=\"background-color: #FFFBFB\"> month</span><span style=\"background-color: #FFF2F2\"> .</span><span style=\"background-color: #FFFBFB\"> y</span><span style=\"background-color: #FFD4D4\"> all</span><span style=\"background-color: #FFFEFE\"> will</span><span style=\"background-color: #FFE0E0\"> enjoy</span><span style=\"background-color: #FFF0F0\"> it</span><span style=\"background-color: #FFFCFC\"> and</span><span style=\"background-color: #FFF5F5\"> it</span><span style=\"background-color: #FFFEFE\"> will</span><span style=\"background-color: #FFFCFC\"> make</span><span style=\"background-color: #FFF5F5\"> you</span><span style=\"background-color: #FFD2D2\"> feel</span><span style=\"background-color: #FFACAC\"> good</span><span style=\"background-color: #FFF1F1\"> .</span><span style=\"background-color: #FFFDFD\"> i</span><span style=\"background-color: #FFFBFB\"> guess</span><span style=\"background-color: #FFFBFB\"> since</span><span style=\"background-color: #FFFDFD\"> i</span><span style=\"background-color: #FFFAFA\"> m</span><span style=\"background-color: #FFFAFA\"> from</span><span style=\"background-color: #FFFAFA\"> west</span><span style=\"background-color: #FFFEFE\"> texas</span><span style=\"background-color: #FFF7F7\"> ,</span><span style=\"background-color: #FFFCFC\"> i</span><span style=\"background-color: #FFFEFE\"> might</span><span style=\"background-color: #FFFAFA\"> be</span><span style=\"background-color: #FFFAFA\"> a</span><span style=\"background-color: #FFB3B3\"> little</span><span style=\"background-color: #FFDBDB\"> biased</span><span style=\"background-color: #FFEDED\"> .</span><span style=\"background-color: #FFEFEF\"> .</span><span style=\"background-color: #FFEFEF\"> .</span><span style=\"background-color: #FFDADA\"> nah</span><span style=\"background-color: #FFFDFD\"> <eos></span><br><br>"
            ],
            "text/plain": [
              "<IPython.core.display.HTML object>"
            ]
          },
          "metadata": {
            "tags": []
          },
          "execution_count": 13
        }
      ]
    }
  ]
}